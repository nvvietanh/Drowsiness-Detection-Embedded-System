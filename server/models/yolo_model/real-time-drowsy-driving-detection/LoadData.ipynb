{
 "cells": [
  {
   "cell_type": "code",
   "execution_count": 1,
   "metadata": {},
   "outputs": [
    {
     "name": "stderr",
     "output_type": "stream",
     "text": [
      "c:\\Utils\\Real_time_drowsy_driving_detection\\.venv\\lib\\site-packages\\tqdm\\auto.py:21: TqdmWarning: IProgress not found. Please update jupyter and ipywidgets. See https://ipywidgets.readthedocs.io/en/stable/user_install.html\n",
      "  from .autonotebook import tqdm as notebook_tqdm\n"
     ]
    }
   ],
   "source": [
    "from datasets import load_dataset\n",
    "\n",
    "dataset = load_dataset('MichalMlodawski/closed-open-eyes')\n",
    "# dataset = load_dataset('dataset_name', split='train')"
   ]
  },
  {
   "cell_type": "code",
   "execution_count": null,
   "metadata": {},
   "outputs": [],
   "source": [
    "!nvidia-smi"
   ]
  },
  {
   "cell_type": "code",
   "execution_count": 3,
   "metadata": {},
   "outputs": [
    {
     "name": "stdout",
     "output_type": "stream",
     "text": [
      "Training size: 101248\n",
      "Validation size: 12656\n",
      "Test size: 12656\n"
     ]
    }
   ],
   "source": [
    "from datasets import DatasetDict, Dataset\n",
    "import numpy as np\n",
    "\n",
    "full_train_dataset = dataset['train']\n",
    "\n",
    "split_dataset = full_train_dataset.train_test_split(test_size=0.2, seed=42) \n",
    "\n",
    "train_dataset = split_dataset['train']\n",
    "validation_dataset = split_dataset['test']\n",
    "\n",
    "validation_test_split = validation_dataset.train_test_split(test_size=0.5, seed=42)  \n",
    "\n",
    "validation_dataset = validation_test_split['train']\n",
    "test_dataset = validation_test_split['test']\n",
    "\n",
    "dataset_split = DatasetDict({\n",
    "    'train': train_dataset,\n",
    "    'val': validation_dataset,\n",
    "    'test': test_dataset\n",
    "})\n",
    "\n",
    "print(\"Training size:\", len(dataset_split['train']))\n",
    "print(\"Validation size:\", len(dataset_split['val']))\n",
    "print(\"Test size:\", len(dataset_split['test']))\n"
   ]
  },
  {
   "cell_type": "code",
   "execution_count": 6,
   "metadata": {},
   "outputs": [
    {
     "data": {
      "text/plain": [
       "Dataset({\n",
       "    features: ['Image_id', 'Left_eye_react', 'Right_eye_react', 'Label', 'Image_data'],\n",
       "    num_rows: 500\n",
       "})"
      ]
     },
     "execution_count": 6,
     "metadata": {},
     "output_type": "execute_result"
    }
   ],
   "source": [
    "dataset_split['val'].select(range(500))"
   ]
  },
  {
   "cell_type": "code",
   "execution_count": 7,
   "metadata": {},
   "outputs": [
    {
     "data": {
      "text/plain": [
       "Dataset({\n",
       "    features: ['Image_id', 'Left_eye_react', 'Right_eye_react', 'Label', 'Image_data'],\n",
       "    num_rows: 101248\n",
       "})"
      ]
     },
     "execution_count": 7,
     "metadata": {},
     "output_type": "execute_result"
    }
   ],
   "source": [
    "dataset_split['train']"
   ]
  },
  {
   "cell_type": "code",
   "execution_count": 5,
   "metadata": {},
   "outputs": [],
   "source": [
    "import os\n",
    "\n",
    "import cv2\n",
    "\n",
    "def coco_to_yolo(x,y,w,h,width,height):\n",
    "    return [((2*x + w)/(2*width)) , ((2*y + h)/(2*height)), w/width, h/height]\n",
    "\n",
    "def preprocessing(parititon: str, data: object):\n",
    "    os.makedirs(f\"datasets/images/{parititon}\", exist_ok=True)\n",
    "    os.makedirs(f\"datasets/labels/{parititon}\", exist_ok=True)\n",
    "\n",
    "    data = data[parititon].select(range(5000))\n",
    "    \n",
    "    for i, sample in enumerate(data):\n",
    "        # if(sample['Label'] == 'open_eyes'):\n",
    "        #     labels = [0,1]\n",
    "        #     text_image = \"open\"\n",
    "        if(sample['Label'] != 'closed_eyes'):\n",
    "            continue\n",
    "        labels = [0,0]\n",
    "        text_image = \"close\"\n",
    "        img = sample['Image_data']['file']\n",
    "        bboxes = [sample['Left_eye_react'], sample['Right_eye_react']]\n",
    "        width = int(sample['Image_data']['file'].size[0])\n",
    "        height = int(sample['Image_data']['file'].size[1])\n",
    "\n",
    "        items = []\n",
    "        for label, box in zip(labels,bboxes):\n",
    "            xc,yc,w,h = coco_to_yolo(box[0],box[1],box[2],box[3],width,height)\n",
    "            items.append(f\"{label} {xc} {yc} {w} {h}\")\n",
    "\n",
    "        with open(f\"datasets/labels/{parititon}/{i}_{text_image}.txt\", \"w\") as f:\n",
    "            for item in items:\n",
    "                f.write(f\"{item}\\n\")\n",
    "\n",
    "        img.save(f\"datasets/images/{parititon}/{i}_{text_image}.png\")"
   ]
  },
  {
   "cell_type": "code",
   "execution_count": 6,
   "metadata": {},
   "outputs": [],
   "source": [
    "\n",
    "preprocessing(\"train\", dataset_split)\n",
    "preprocessing(\"val\", dataset_split)\n",
    "preprocessing(\"test\", dataset_split)"
   ]
  }
 ],
 "metadata": {
  "kernelspec": {
   "display_name": ".venv",
   "language": "python",
   "name": "python3"
  },
  "language_info": {
   "codemirror_mode": {
    "name": "ipython",
    "version": 3
   },
   "file_extension": ".py",
   "mimetype": "text/x-python",
   "name": "python",
   "nbconvert_exporter": "python",
   "pygments_lexer": "ipython3",
   "version": "3.9.13"
  }
 },
 "nbformat": 4,
 "nbformat_minor": 2
}
