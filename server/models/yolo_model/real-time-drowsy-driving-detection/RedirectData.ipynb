{
 "cells": [
  {
   "cell_type": "code",
   "execution_count": null,
   "metadata": {},
   "outputs": [],
   "source": [
    "import shutil\n",
    "import os\n",
    "import random\n",
    "\n",
    "source_folder = 'C:\\\\Utils\\\\Real_time_drowsy_driving_detection\\\\database\\\\no yawn'\n",
    "train_folder = 'C:\\\\Utils\\\\Real_time_drowsy_driving_detection\\\\database\\\\no yawn\\\\train'\n",
    "val_folder = 'C:\\\\Utils\\\\Real_time_drowsy_driving_detection\\\\database\\\\no yawn\\\\val'\n",
    "\n",
    "for folder in [train_folder, val_folder]:\n",
    "    if not os.path.exists(folder):\n",
    "        os.makedirs(folder)\n",
    "\n",
    "files = [f for f in os.listdir(source_folder) if f.endswith(\".jpg\") or f.endswith(\".png\")] \n",
    "random.shuffle(files)\n",
    "\n",
    "split_ratio = 0.8\n",
    "split_index = int(len(files) * split_ratio)\n",
    "\n",
    "train_files = files[:split_index]\n",
    "val_files = files[split_index:]\n",
    "\n",
    "for filename in train_files:\n",
    "    source_path = os.path.join(source_folder, filename)\n",
    "    destination_path = os.path.join(train_folder, filename)\n",
    "    shutil.move(source_path, destination_path)\n",
    "    print(f'Moved {filename} to {train_folder}')\n",
    "\n",
    "for filename in val_files:\n",
    "    source_path = os.path.join(source_folder, filename)\n",
    "    destination_path = os.path.join(val_folder, filename)\n",
    "    shutil.move(source_path, destination_path)\n",
    "    print(f'Moved {filename} to {val_folder}')\n"
   ]
  }
 ],
 "metadata": {
  "kernelspec": {
   "display_name": ".venv",
   "language": "python",
   "name": "python3"
  },
  "language_info": {
   "codemirror_mode": {
    "name": "ipython",
    "version": 3
   },
   "file_extension": ".py",
   "mimetype": "text/x-python",
   "name": "python",
   "nbconvert_exporter": "python",
   "pygments_lexer": "ipython3",
   "version": "3.9.13"
  }
 },
 "nbformat": 4,
 "nbformat_minor": 2
}
