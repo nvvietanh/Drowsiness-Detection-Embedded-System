{
 "cells": [
  {
   "cell_type": "code",
   "execution_count": null,
   "id": "453405a0",
   "metadata": {},
   "outputs": [
    {
     "name": "stdout",
     "output_type": "stream",
     "text": [
      "Hello\n"
     ]
    }
   ],
   "source": [
    "import os\n",
    "import random\n",
    "import shutil\n",
    "\n",
    "def copy_img(fa, fb) :\n",
    "    # Đường dẫn đến thư mục A và thư mục B\n",
    "    folder_a = \"./Driver Drowsiness Dataset (DDD)/Drowsy\"\n",
    "    folder_b = \"./Driver Drowsiness Dataset (DDD)_1/Drowsy\"\n",
    "\n",
    "    # Kiểm tra nếu thư mục B không tồn tại thì tạo mới\n",
    "    if not os.path.exists(folder_b):\n",
    "        os.makedirs(folder_b)\n",
    "\n",
    "    # Lấy danh sách tất cả các file trong thư mục A\n",
    "    all_files = [f for f in os.listdir(folder_a) if os.path.isfile(os.path.join(folder_a, f))]\n",
    "\n",
    "    # Lọc chỉ những file ảnh (có đuôi .jpg, .jpeg, .png, .gif, v.v...)\n",
    "    image_extensions = ('.jpg', '.jpeg', '.png', '.gif')\n",
    "    image_files = [f for f in all_files if f.lower().endswith(image_extensions)]\n",
    "\n",
    "    # Chọn ngẫu nhiên 10000 file (nếu có đủ)\n",
    "    selected_images = random.sample(image_files, min(10000, len(image_files)))\n",
    "\n",
    "    # Sao chép các ảnh đã chọn từ thư mục A vào thư mục B\n",
    "    for image in selected_images:\n",
    "        source_path = os.path.join(folder_a, image)\n",
    "        destination_path = os.path.join(folder_b, image)\n",
    "        shutil.copy2(source_path, destination_path)\n",
    "\n",
    "    print(f\"Đã sao chép {len(selected_images)} ảnh từ {folder_a} vào {folder_b}.\")\n",
    "\n",
    "copy_img(\"./Driver Drowsiness Dataset (DDD)/Drowsy\", \"./Driver Drowsiness Dataset (DDD)_1/Drowsy\")\n",
    "copy_img(\"./Driver Drowsiness Dataset (DDD)/Non Drowsy\", \"./Driver Drowsiness Dataset (DDD)_1/Non Drowsy\")\n"
   ]
  }
 ],
 "metadata": {
  "kernelspec": {
   "display_name": "py310",
   "language": "python",
   "name": "python3"
  },
  "language_info": {
   "codemirror_mode": {
    "name": "ipython",
    "version": 3
   },
   "file_extension": ".py",
   "mimetype": "text/x-python",
   "name": "python",
   "nbconvert_exporter": "python",
   "pygments_lexer": "ipython3",
   "version": "3.10.15"
  }
 },
 "nbformat": 4,
 "nbformat_minor": 5
}
